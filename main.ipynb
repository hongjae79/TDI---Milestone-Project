{
 "cells": [
  {
   "cell_type": "markdown",
   "id": "7f9ae751",
   "metadata": {},
   "source": [
    "# Milestone Project"
   ]
  },
  {
   "cell_type": "markdown",
   "id": "b3e7ee1e",
   "metadata": {},
   "source": [
    "### Import libraries"
   ]
  },
  {
   "cell_type": "code",
   "execution_count": 1,
   "id": "93bcf71e",
   "metadata": {},
   "outputs": [],
   "source": [
    "import pandas as pd\n",
    "import numpy as np\n",
    "import matplotlib.pyplot as plt"
   ]
  },
  {
   "cell_type": "markdown",
   "id": "b7570c2f",
   "metadata": {},
   "source": [
    "### Load the data"
   ]
  },
  {
   "cell_type": "code",
   "execution_count": 3,
   "id": "1c33aaea",
   "metadata": {},
   "outputs": [
    {
     "data": {
      "text/html": [
       "<div>\n",
       "<style scoped>\n",
       "    .dataframe tbody tr th:only-of-type {\n",
       "        vertical-align: middle;\n",
       "    }\n",
       "\n",
       "    .dataframe tbody tr th {\n",
       "        vertical-align: top;\n",
       "    }\n",
       "\n",
       "    .dataframe thead th {\n",
       "        text-align: right;\n",
       "    }\n",
       "</style>\n",
       "<table border=\"1\" class=\"dataframe\">\n",
       "  <thead>\n",
       "    <tr style=\"text-align: right;\">\n",
       "      <th></th>\n",
       "      <th>Company Name</th>\n",
       "      <th>company contact</th>\n",
       "      <th>company email</th>\n",
       "      <th>company phone</th>\n",
       "      <th>Address</th>\n",
       "      <th>City</th>\n",
       "      <th>State</th>\n",
       "      <th>Postcode</th>\n",
       "      <th>Industry</th>\n",
       "      <th>Industry descr</th>\n",
       "      <th>...</th>\n",
       "      <th>Savings from beginning receiving benefits</th>\n",
       "      <th>Borough</th>\n",
       "      <th>Latitude</th>\n",
       "      <th>Longitude</th>\n",
       "      <th>Community Board</th>\n",
       "      <th>Council District</th>\n",
       "      <th>Census Tract</th>\n",
       "      <th>BIN</th>\n",
       "      <th>BBL</th>\n",
       "      <th>NTA</th>\n",
       "    </tr>\n",
       "  </thead>\n",
       "  <tbody>\n",
       "    <tr>\n",
       "      <th>0</th>\n",
       "      <td>1 State Street</td>\n",
       "      <td>David Neiburg</td>\n",
       "      <td>eskoblo@energyspec.com</td>\n",
       "      <td>7186779077</td>\n",
       "      <td>1114 Avenue J</td>\n",
       "      <td>Brooklyn</td>\n",
       "      <td>NY</td>\n",
       "      <td>11230</td>\n",
       "      <td>Commercial</td>\n",
       "      <td>35 story building</td>\n",
       "      <td>...</td>\n",
       "      <td>349.78</td>\n",
       "      <td>Brooklyn</td>\n",
       "      <td>40.624784</td>\n",
       "      <td>-73.964920</td>\n",
       "      <td>314.0</td>\n",
       "      <td>44.0</td>\n",
       "      <td>534.0</td>\n",
       "      <td>3179818.0</td>\n",
       "      <td>3.067130e+09</td>\n",
       "      <td>Midwood</td>\n",
       "    </tr>\n",
       "    <tr>\n",
       "      <th>1</th>\n",
       "      <td>100 Church LLC</td>\n",
       "      <td>Edward A. Carroll</td>\n",
       "      <td>NaN</td>\n",
       "      <td>2125663000</td>\n",
       "      <td>100 Church Street</td>\n",
       "      <td>NY</td>\n",
       "      <td>NY</td>\n",
       "      <td>10007</td>\n",
       "      <td>Commercial</td>\n",
       "      <td>21 Floors</td>\n",
       "      <td>...</td>\n",
       "      <td>4423698.05</td>\n",
       "      <td>New York</td>\n",
       "      <td>40.712968</td>\n",
       "      <td>-74.009490</td>\n",
       "      <td>101.0</td>\n",
       "      <td>1.0</td>\n",
       "      <td>21.0</td>\n",
       "      <td>1001409.0</td>\n",
       "      <td>1.001250e+09</td>\n",
       "      <td>SoHo-TriBeCa-Civic Center-Little Italy</td>\n",
       "    </tr>\n",
       "    <tr>\n",
       "      <th>2</th>\n",
       "      <td>100 Wall Investments</td>\n",
       "      <td>Jerry Branam</td>\n",
       "      <td>NaN</td>\n",
       "      <td>2122487160</td>\n",
       "      <td>96 Wall Street</td>\n",
       "      <td>New York</td>\n",
       "      <td>NY</td>\n",
       "      <td>10005</td>\n",
       "      <td>Landlord</td>\n",
       "      <td>NaN</td>\n",
       "      <td>...</td>\n",
       "      <td>1814542.62</td>\n",
       "      <td>New York</td>\n",
       "      <td>40.705052</td>\n",
       "      <td>-74.007199</td>\n",
       "      <td>101.0</td>\n",
       "      <td>1.0</td>\n",
       "      <td>7.0</td>\n",
       "      <td>1000875.0</td>\n",
       "      <td>1.000380e+09</td>\n",
       "      <td>Battery Park City-Lower Manhattan</td>\n",
       "    </tr>\n",
       "    <tr>\n",
       "      <th>3</th>\n",
       "      <td>1-10 Bush Terminal Owner LP</td>\n",
       "      <td>Andrew Kimball</td>\n",
       "      <td>akimball@industrycity.com</td>\n",
       "      <td>3474178429</td>\n",
       "      <td>220 36th St, Suite 2A</td>\n",
       "      <td>Brooklyn</td>\n",
       "      <td>NY</td>\n",
       "      <td>11232</td>\n",
       "      <td>Landlord</td>\n",
       "      <td>Special Eligible Premises for eligible businesses</td>\n",
       "      <td>...</td>\n",
       "      <td>6755.31</td>\n",
       "      <td>Brooklyn</td>\n",
       "      <td>40.656061</td>\n",
       "      <td>-74.007334</td>\n",
       "      <td>307.0</td>\n",
       "      <td>38.0</td>\n",
       "      <td>2.0</td>\n",
       "      <td>3398687.0</td>\n",
       "      <td>3.006950e+09</td>\n",
       "      <td>Sunset Park West</td>\n",
       "    </tr>\n",
       "    <tr>\n",
       "      <th>4</th>\n",
       "      <td>120 Broadway Acquisitions JV, LLC (Ldmk)</td>\n",
       "      <td>Carl Letich</td>\n",
       "      <td>clettich@silvprop.com</td>\n",
       "      <td>2124064020</td>\n",
       "      <td>120 Broadway</td>\n",
       "      <td>New York</td>\n",
       "      <td>NY</td>\n",
       "      <td>10271</td>\n",
       "      <td>Commercial</td>\n",
       "      <td>NaN</td>\n",
       "      <td>...</td>\n",
       "      <td>3293055.08</td>\n",
       "      <td>New York</td>\n",
       "      <td>40.708546</td>\n",
       "      <td>-74.011041</td>\n",
       "      <td>101.0</td>\n",
       "      <td>1.0</td>\n",
       "      <td>7.0</td>\n",
       "      <td>1001026.0</td>\n",
       "      <td>1.000478e+09</td>\n",
       "      <td>Battery Park City-Lower Manhattan</td>\n",
       "    </tr>\n",
       "  </tbody>\n",
       "</table>\n",
       "<p>5 rows × 26 columns</p>\n",
       "</div>"
      ],
      "text/plain": [
       "                               Company Name    company contact  \\\n",
       "0                            1 State Street      David Neiburg   \n",
       "1                            100 Church LLC  Edward A. Carroll   \n",
       "2                      100 Wall Investments       Jerry Branam   \n",
       "3               1-10 Bush Terminal Owner LP     Andrew Kimball   \n",
       "4  120 Broadway Acquisitions JV, LLC (Ldmk)        Carl Letich   \n",
       "\n",
       "               company email company phone                Address      City  \\\n",
       "0     eskoblo@energyspec.com    7186779077          1114 Avenue J  Brooklyn   \n",
       "1                        NaN    2125663000      100 Church Street        NY   \n",
       "2                        NaN    2122487160         96 Wall Street  New York   \n",
       "3  akimball@industrycity.com    3474178429  220 36th St, Suite 2A  Brooklyn   \n",
       "4      clettich@silvprop.com    2124064020           120 Broadway  New York   \n",
       "\n",
       "  State  Postcode    Industry  \\\n",
       "0    NY     11230  Commercial   \n",
       "1    NY     10007  Commercial   \n",
       "2    NY     10005    Landlord   \n",
       "3    NY     11232    Landlord   \n",
       "4    NY     10271  Commercial   \n",
       "\n",
       "                                      Industry descr  ...  \\\n",
       "0                                  35 story building  ...   \n",
       "1                                          21 Floors  ...   \n",
       "2                                                NaN  ...   \n",
       "3  Special Eligible Premises for eligible businesses  ...   \n",
       "4                                                NaN  ...   \n",
       "\n",
       "  Savings from beginning receiving benefits   Borough   Latitude  Longitude  \\\n",
       "0                                    349.78  Brooklyn  40.624784 -73.964920   \n",
       "1                                4423698.05  New York  40.712968 -74.009490   \n",
       "2                                1814542.62  New York  40.705052 -74.007199   \n",
       "3                                   6755.31  Brooklyn  40.656061 -74.007334   \n",
       "4                                3293055.08  New York  40.708546 -74.011041   \n",
       "\n",
       "  Community Board  Council District  Census Tract        BIN           BBL  \\\n",
       "0           314.0              44.0         534.0  3179818.0  3.067130e+09   \n",
       "1           101.0               1.0          21.0  1001409.0  1.001250e+09   \n",
       "2           101.0               1.0           7.0  1000875.0  1.000380e+09   \n",
       "3           307.0              38.0           2.0  3398687.0  3.006950e+09   \n",
       "4           101.0               1.0           7.0  1001026.0  1.000478e+09   \n",
       "\n",
       "                                      NTA  \n",
       "0                                 Midwood  \n",
       "1  SoHo-TriBeCa-Civic Center-Little Italy  \n",
       "2       Battery Park City-Lower Manhattan  \n",
       "3                        Sunset Park West  \n",
       "4       Battery Park City-Lower Manhattan  \n",
       "\n",
       "[5 rows x 26 columns]"
      ]
     },
     "execution_count": 3,
     "metadata": {},
     "output_type": "execute_result"
    }
   ],
   "source": [
    "df = pd.read_csv(\"Value_of_Energy_Cost_Savings_Program_Savings_for_Businesses_-_FY2020.csv\")\n",
    "df.head()"
   ]
  },
  {
   "cell_type": "markdown",
   "id": "223bda33",
   "metadata": {},
   "source": [
    "### Day 4"
   ]
  },
  {
   "cell_type": "markdown",
   "id": "f32840f0",
   "metadata": {},
   "source": [
    "#### 1. How many different companies are represented in the data set?"
   ]
  },
  {
   "cell_type": "code",
   "execution_count": 4,
   "id": "1dbce8f9",
   "metadata": {},
   "outputs": [
    {
     "name": "stdout",
     "output_type": "stream",
     "text": [
      "The number of different companies are 439\n"
     ]
    }
   ],
   "source": [
    "print(\"The number of different companies are %d\" % len(df['Company Name'].unique()))"
   ]
  },
  {
   "cell_type": "markdown",
   "id": "1b7aa5e2",
   "metadata": {},
   "source": [
    "#### 2. What is the total number of jobs created for businesses in Queens?"
   ]
  },
  {
   "cell_type": "code",
   "execution_count": 3,
   "id": "53a5eb86",
   "metadata": {},
   "outputs": [],
   "source": [
    "x = df[df['City'] == 'Queens']['Job created'].isna()\n",
    "queen_job = 0 \n",
    "for jobs, x in zip(df[df['City'] == 'Queens']['Job created'],x):\n",
    "    if x == False:\n",
    "        queen_job += jobs\n",
    "    else:\n",
    "        pass"
   ]
  },
  {
   "cell_type": "code",
   "execution_count": 4,
   "id": "080de30b",
   "metadata": {},
   "outputs": [
    {
     "name": "stdout",
     "output_type": "stream",
     "text": [
      "The number of jobs created in Queens is 90\n"
     ]
    }
   ],
   "source": [
    "print(\"The number of jobs created in Queens is %d\" % queen_job)"
   ]
  },
  {
   "cell_type": "markdown",
   "id": "230b1856",
   "metadata": {},
   "source": [
    "#### 3. How many different unique email domains names are there in the data set?"
   ]
  },
  {
   "cell_type": "code",
   "execution_count": 8,
   "id": "2f3c3976",
   "metadata": {},
   "outputs": [
    {
     "name": "stdout",
     "output_type": "stream",
     "text": [
      "The number of unique company email is 421\n"
     ]
    }
   ],
   "source": [
    "print(\"The number of unique company email is %d\" % len(df['company email'].unique()))"
   ]
  },
  {
   "cell_type": "markdown",
   "id": "e2bd270f",
   "metadata": {},
   "source": [
    "#### 4. Considering only NTAs with at least 5 listed businesses, what is the average total savings and the total jobs created for each NTA?"
   ]
  },
  {
   "cell_type": "code",
   "execution_count": 9,
   "id": "8e5bce03",
   "metadata": {},
   "outputs": [],
   "source": [
    "NTA_value_count_dict = dict(df['NTA'].value_counts())"
   ]
  },
  {
   "cell_type": "code",
   "execution_count": 10,
   "id": "53440a79",
   "metadata": {},
   "outputs": [],
   "source": [
    "nta_list = []\n",
    "avg_saving = []\n",
    "job_created = []\n",
    "\n",
    "for name in NTA_value_count_dict.keys():\n",
    "    if NTA_value_count_dict.get(name) >= 5:\n",
    "        nta_list.append(name)\n",
    "        x = df[df['NTA'] == name]['Savings from beginning receiving benefits'].mean()\n",
    "        y = df[df['NTA'] == name]['Job created'].sum()\n",
    "        #print(y)\n",
    "        avg_saving.append(float(round(x,2)))\n",
    "        job_created.append(int(y))"
   ]
  },
  {
   "cell_type": "code",
   "execution_count": 11,
   "id": "f15802b8",
   "metadata": {},
   "outputs": [
    {
     "name": "stdout",
     "output_type": "stream",
     "text": [
      "For Hunters Point-Sunnyside-West Maspeth, 0 jobs created and total avg saving is $160609.32\n",
      "For Sunset Park West, 0 jobs created and total avg saving is $139256.48\n",
      "For Queensbridge-Ravenswood-Long Island City, 0 jobs created and total avg saving is $447198.66\n",
      "For park-cemetery-etc-Brooklyn, 0 jobs created and total avg saving is $36740.33\n",
      "For Mott Haven-Port Morris, 10 jobs created and total avg saving is $159905.58\n",
      "For Greenpoint, 0 jobs created and total avg saving is $177222.06\n",
      "For Hunts Point, 12 jobs created and total avg saving is $397635.45\n",
      "For Carroll Gardens-Columbia Street-Red Hook, 0 jobs created and total avg saving is $184683.95\n",
      "For East Williamsburg, 0 jobs created and total avg saving is $143369.48\n",
      "For Bushwick South, 10 jobs created and total avg saving is $307800.03\n",
      "For DUMBO-Vinegar Hill-Downtown Brooklyn-Boerum Hill, 0 jobs created and total avg saving is $437390.50\n",
      "For Maspeth, 10 jobs created and total avg saving is $20783.18\n",
      "For Crown Heights North, 0 jobs created and total avg saving is $17168.97\n",
      "For East New York, 15 jobs created and total avg saving is $457945.40\n",
      "For Battery Park City-Lower Manhattan, 0 jobs created and total avg saving is $3798151.24\n",
      "For Manhattanville, 0 jobs created and total avg saving is $22030.59\n",
      "For College Point, 2 jobs created and total avg saving is $574250.81\n",
      "For Steinway, 20 jobs created and total avg saving is $255769.45\n",
      "For SoHo-TriBeCa-Civic Center-Little Italy, 0 jobs created and total avg saving is $990867.59\n",
      "For Springfield Gardens South-Brookville, 0 jobs created and total avg saving is $362028.86\n"
     ]
    }
   ],
   "source": [
    "for key, value, count in zip(nta_list, avg_saving, job_created):\n",
    "    #print(count)\n",
    "    print(\"For %s, %d jobs created and total avg saving is $%6.2f\" % (key, count, value))"
   ]
  },
  {
   "cell_type": "markdown",
   "id": "4843a3e3",
   "metadata": {},
   "source": [
    "#### 5. Save your result for the previous question as a CSV file."
   ]
  },
  {
   "cell_type": "code",
   "execution_count": 12,
   "id": "23a68054",
   "metadata": {},
   "outputs": [],
   "source": [
    "df_result = pd.DataFrame()"
   ]
  },
  {
   "cell_type": "code",
   "execution_count": 13,
   "id": "e1ae062f",
   "metadata": {},
   "outputs": [],
   "source": [
    "df_result['NTA'] = nta_list\n",
    "df_result['Average savings'] = avg_saving\n",
    "df_result['Jobs Created'] = job_created"
   ]
  },
  {
   "cell_type": "code",
   "execution_count": 14,
   "id": "e1acf2cc",
   "metadata": {},
   "outputs": [],
   "source": [
    "df_result.to_csv('day4_result.csv')"
   ]
  },
  {
   "cell_type": "markdown",
   "id": "da58f139",
   "metadata": {},
   "source": [
    "### Day 5"
   ]
  },
  {
   "cell_type": "markdown",
   "id": "086bf586",
   "metadata": {},
   "source": [
    "#### Scatter plot of jobs created versus average savings. "
   ]
  },
  {
   "cell_type": "code",
   "execution_count": 15,
   "id": "199d6788",
   "metadata": {},
   "outputs": [
    {
     "data": {
      "image/png": "[encoded data removed]",
      "text/plain": [
       "<Figure size 432x288 with 1 Axes>"
      ]
     },
     "metadata": {
      "needs_background": "light"
     },
     "output_type": "display_data"
    }
   ],
   "source": [
    "plt.scatter(job_created, avg_saving)\n",
    "plt.xlabel('Jobs Created')\n",
    "plt.ylabel('Average Savings')\n",
    "plt.title('Log Scale')\n",
    "plt.yscale('log')\n",
    "plt.show()"
   ]
  },
  {
   "cell_type": "code",
   "execution_count": 16,
   "id": "86b28c1a",
   "metadata": {},
   "outputs": [
    {
     "data": {
      "image/png": "[encoded data removed]",
      "text/plain": [
       "<Figure size 432x288 with 1 Axes>"
      ]
     },
     "metadata": {
      "needs_background": "light"
     },
     "output_type": "display_data"
    }
   ],
   "source": [
    "plt.scatter(job_created, avg_saving)\n",
    "plt.xlabel('Jobs Created')\n",
    "plt.ylabel('Average Savings')\n",
    "plt.title('Standard Scale')\n",
    "plt.show()"
   ]
  },
  {
   "cell_type": "markdown",
   "id": "7fb51de8",
   "metadata": {},
   "source": [
    "#### Histogram of the log of the average total savings."
   ]
  },
  {
   "cell_type": "code",
   "execution_count": 17,
   "id": "a56e89ea",
   "metadata": {},
   "outputs": [
    {
     "data": {
      "image/png": "[encoded data removed]",
      "text/plain": [
       "<Figure size 432x288 with 1 Axes>"
      ]
     },
     "metadata": {
      "needs_background": "light"
     },
     "output_type": "display_data"
    }
   ],
   "source": [
    "plt.hist(avg_saving)\n",
    "\n",
    "plt.yscale('log')\n",
    "plt.show()"
   ]
  },
  {
   "cell_type": "markdown",
   "id": "22f85fbc",
   "metadata": {},
   "source": [
    "#### Line plot of the total jobs created for each month."
   ]
  },
  {
   "cell_type": "code",
   "execution_count": 18,
   "id": "efe401a6",
   "metadata": {},
   "outputs": [],
   "source": [
    "x = list(df['Effective Date'])\n",
    "x = pd.to_datetime(x)\n",
    "y = list(df['Job created'])"
   ]
  },
  {
   "cell_type": "code",
   "execution_count": 19,
   "id": "e91e931a",
   "metadata": {},
   "outputs": [],
   "source": [
    "df_5 = pd.DataFrame(data={'jobs created': y}, index=x)"
   ]
  },
  {
   "cell_type": "code",
   "execution_count": 21,
   "id": "6755d14b",
   "metadata": {},
   "outputs": [],
   "source": [
    "df_5_m = df_5.resample('M').sum()"
   ]
  },
  {
   "cell_type": "code",
   "execution_count": 22,
   "id": "6803cea0",
   "metadata": {},
   "outputs": [
    {
     "data": {
      "image/png": "[encoded data removed]",
      "text/plain": [
       "<Figure size 432x288 with 1 Axes>"
      ]
     },
     "metadata": {
      "needs_background": "light"
     },
     "output_type": "display_data"
    }
   ],
   "source": [
    "plt.plot(df_5_m.index, df_5_m['jobs created'])\n",
    "plt.show()"
   ]
  },
  {
   "cell_type": "code",
   "execution_count": null,
   "id": "014ff03a",
   "metadata": {},
   "outputs": [],
   "source": []
  }
 ],
 "metadata": {
  "kernelspec": {
   "display_name": "Python 3 (ipykernel)",
   "language": "python",
   "name": "python3"
  },
  "language_info": {
   "codemirror_mode": {
    "name": "ipython",
    "version": 3
   },
   "file_extension": ".py",
   "mimetype": "text/x-python",
   "name": "python",
   "nbconvert_exporter": "python",
   "pygments_lexer": "ipython3",
   "version": "3.8.5"
  }
 },
 "nbformat": 4,
 "nbformat_minor": 5
}
